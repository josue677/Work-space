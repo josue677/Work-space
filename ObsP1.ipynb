{
 "cells": [
  {
   "cell_type": "code",
   "execution_count": 1,
   "id": "3d6a3365-3d06-4248-8008-96648b5e7f8a",
   "metadata": {},
   "outputs": [],
   "source": [
    "# import zipfile\n",
    "# my_zip = zipfile.ZipFile('drive-download-20220716T023838Z-001.zip')\n",
    "# my_zip.extractall()"
   ]
  },
  {
   "cell_type": "code",
   "execution_count": 13,
   "id": "1588ffdb-8215-4f9b-85d8-eb939420b88d",
   "metadata": {},
   "outputs": [],
   "source": [
    "import numpy as np\n",
    "import pandas as pd\n",
    "import matplotlib.pyplot as plt\n",
    "%matplotlib inline\n",
    "\n",
    "from ccdproc import CCDData, trim_image, subtract_bias, subtract_dark, flat_correct, Combiner\n",
    "\n",
    "import astropy.units as u\n",
    "from astropy.visualization import simple_norm, ImageNormalize, ZScaleInterval\n",
    "\n",
    "import warnings\n",
    "warnings.simplefilter(\"ignore\")\n",
    "\n",
    "import glob\n",
    "import os\n",
    "from scipy.signal import medfilt\n",
    "\n",
    "from photutils import aperture_photometry, DAOStarFinder, CircularAperture, CircularAnnulus\n",
    "from astropy.stats import sigma_clipped_stats\n",
    "\n",
    "from astropy.modeling.models import Moffat1D"
   ]
  },
  {
   "cell_type": "markdown",
   "id": "58dbb80a-8eca-414a-9901-64f0b9659713",
   "metadata": {},
   "source": [
    "## Read in data"
   ]
  },
  {
   "cell_type": "code",
   "execution_count": 17,
   "id": "2d7c5bec-6a77-4ae0-b508-f0da0c60a0c0",
   "metadata": {
    "tags": []
   },
   "outputs": [
    {
     "name": "stdout",
     "output_type": "stream",
     "text": [
      "[]\n"
     ]
    }
   ],
   "source": [
    "# data #\n",
    "# pg1633 (standard star)\n",
    "pg1633_loc = glob.glob('C:/Users/josue/Work-space/data/07082022/P[gG]1633*.fits')\n",
    "pg1633_loc = [loc for loc in pg1633_loc if 'test' not in loc]\n",
    "\n",
    "print(pg1633_loc)\n",
    "# pg1633 = []\n",
    "# for x in pg1633_loc:\n",
    "#     image = CCDData.read(x, unit='adu')\n",
    "#     pg1633.append(image)\n",
    "\n",
    "# # pg1648 (standard star)\n",
    "# pg1648_loc = glob.glob('./07*/P[gG]1648*.fits')\n",
    "# pg1648 = []\n",
    "# for x in pg1648_loc:\n",
    "#     image = CCDData.read(x, unit='adu')\n",
    "#     pg1648.append(image)\n",
    "    \n",
    "# # g9348 (standard star)\n",
    "# g9348_loc = glob.glob('./07*/[gG]9348*.fits')\n",
    "# g9348 = []\n",
    "# for x in g9348_loc:\n",
    "#     image = CCDData.read(x, unit='adu')\n",
    "#     g9348.append(image)\n",
    "\n",
    "# # lilsaldalbary (extinction star; BD+234617)\n",
    "# lilsal_loc = glob.glob('./07*/lilsa[ld]*.fits')\n",
    "# lilsal = []\n",
    "# for x in lilsal_loc:\n",
    "#     image = CCDData.read(x, unit='adu')\n",
    "#     lilsal.append(image)\n",
    "\n",
    "# # ngc7318 (don't need... delete?)\n",
    "# ngc7318_loc = glob.glob('./07*/NGC7318*.fits')\n",
    "# ngc7318 = []\n",
    "# for x in ngc7318_loc:\n",
    "#     image = CCDData.read(x, unit='adu')\n",
    "#     ngc7318.append(image)"
   ]
  },
  {
   "cell_type": "code",
   "execution_count": 18,
   "id": "083cfb67-e585-4437-a780-f6bc3bcadffb",
   "metadata": {},
   "outputs": [],
   "source": [
    "# biases #\n",
    "bias = []\n",
    "bias_07 = glob.glob('./07072022/bias*.fits')\n",
    "bias_08 = glob.glob('./07082022/bias*.fits')\n",
    "\n",
    "for x in bias_07:\n",
    "    image = CCDData.read(x, unit='adu')\n",
    "    bias.append(image)\n",
    "\n",
    "for x in bias_08:\n",
    "    image = CCDData.read(x, unit='adu')\n",
    "    bias.append(image)"
   ]
  },
  {
   "cell_type": "code",
   "execution_count": 5,
   "id": "e5eb9ac4-f895-49e9-83f7-ac24dbac81f3",
   "metadata": {},
   "outputs": [],
   "source": [
    "# sky flats\n",
    "skyflats = []\n",
    "skyflats_loc = glob.glob('./07*/sky*.fits')\n",
    "skyflats_loc = [loc for loc in skyflats_loc if 'test' not in loc]\n",
    "\n",
    "for x in skyflats_loc:\n",
    "    image = CCDData.read(x, unit='adu')\n",
    "    skyflats.append(image)"
   ]
  },
  {
   "cell_type": "code",
   "execution_count": 6,
   "id": "4299986b-d1cb-45ca-b142-c3cdb69285cd",
   "metadata": {},
   "outputs": [],
   "source": [
    "# dome flats\n",
    "domeflats = []\n",
    "domeflats_loc = glob.glob('./07*/*dome*.fits')\n",
    "domeflats_loc = [loc for loc in domeflats_loc if 'test' not in loc]\n",
    "\n",
    "for x in domeflats_loc:\n",
    "    image = CCDData.read(x, unit='adu')\n",
    "    domeflats.append(image)"
   ]
  },
  {
   "cell_type": "code",
   "execution_count": 7,
   "id": "22b35684-09db-4a40-8ba0-a24c134828f7",
   "metadata": {},
   "outputs": [],
   "source": [
    "# linearity tests\n",
    "lintests = []\n",
    "lintests_08 = glob.glob('./07082022/lintest*.fits')\n",
    "\n",
    "for x in lintests_08:\n",
    "    image = CCDData.read(x, unit='adu')\n",
    "    lintests.append(image)"
   ]
  },
  {
   "cell_type": "markdown",
   "id": "268a6a98-12a1-4b7d-ae54-aa2c7114ac59",
   "metadata": {},
   "source": [
    "## _CCD Characterization_"
   ]
  },
  {
   "cell_type": "code",
   "execution_count": 8,
   "id": "602df116-1513-4a19-9ade-7afae4ea359d",
   "metadata": {
    "scrolled": true,
    "tags": []
   },
   "outputs": [
    {
     "data": {
      "text/plain": [
       "[]"
      ]
     },
     "execution_count": 8,
     "metadata": {},
     "output_type": "execute_result"
    }
   ],
   "source": [
    "# dunno how to sort array by header; tidy up later\n",
    "exfil_flats = []\n",
    "for x in skyflats:\n",
    "    y = [x.header['exptime'], x.header['filter']]\n",
    "    exfil_flats.append(y)\n",
    "    \n",
    "exfil_flats"
   ]
  },
  {
   "cell_type": "markdown",
   "id": "ea3618ab-3f3c-4d57-83ff-b6a594623961",
   "metadata": {},
   "source": [
    "### Gain Calculation"
   ]
  },
  {
   "cell_type": "code",
   "execution_count": 9,
   "id": "99f2ec17-0fc7-444c-9ec6-e4d111c414d2",
   "metadata": {},
   "outputs": [
    {
     "ename": "IndexError",
     "evalue": "list index out of range",
     "output_type": "error",
     "traceback": [
      "\u001b[1;31m---------------------------------------------------------------------------\u001b[0m",
      "\u001b[1;31mIndexError\u001b[0m                                Traceback (most recent call last)",
      "\u001b[1;32m~\\AppData\\Local\\Temp/ipykernel_24232/3888621629.py\u001b[0m in \u001b[0;36m<module>\u001b[1;34m\u001b[0m\n\u001b[1;32m----> 1\u001b[1;33m \u001b[0mflat1\u001b[0m \u001b[1;33m=\u001b[0m \u001b[0mskyflats\u001b[0m\u001b[1;33m[\u001b[0m\u001b[1;36m3\u001b[0m\u001b[1;33m]\u001b[0m\u001b[1;33m\u001b[0m\u001b[1;33m\u001b[0m\u001b[0m\n\u001b[0m\u001b[0;32m      2\u001b[0m \u001b[0mflat2\u001b[0m \u001b[1;33m=\u001b[0m \u001b[0mskyflats\u001b[0m\u001b[1;33m[\u001b[0m\u001b[1;36m8\u001b[0m\u001b[1;33m]\u001b[0m\u001b[1;33m\u001b[0m\u001b[1;33m\u001b[0m\u001b[0m\n\u001b[0;32m      3\u001b[0m \u001b[0mbias1\u001b[0m \u001b[1;33m=\u001b[0m \u001b[0mbias\u001b[0m\u001b[1;33m[\u001b[0m\u001b[1;36m0\u001b[0m\u001b[1;33m]\u001b[0m\u001b[1;33m\u001b[0m\u001b[1;33m\u001b[0m\u001b[0m\n\u001b[0;32m      4\u001b[0m \u001b[0mbias2\u001b[0m \u001b[1;33m=\u001b[0m \u001b[0mbias\u001b[0m\u001b[1;33m[\u001b[0m\u001b[1;36m1\u001b[0m\u001b[1;33m]\u001b[0m\u001b[1;33m\u001b[0m\u001b[1;33m\u001b[0m\u001b[0m\n",
      "\u001b[1;31mIndexError\u001b[0m: list index out of range"
     ]
    }
   ],
   "source": [
    "flat1 = skyflats[3]\n",
    "flat2 = skyflats[8]\n",
    "bias1 = bias[0]\n",
    "bias2 = bias[1]"
   ]
  },
  {
   "cell_type": "code",
   "execution_count": null,
   "id": "df1ef5be-996c-4f36-874e-407a6c5cbf32",
   "metadata": {},
   "outputs": [],
   "source": [
    "np.mean(flat1)"
   ]
  },
  {
   "cell_type": "code",
   "execution_count": null,
   "id": "8abafbdb-497d-4caa-976d-1ae6d9b37ccc",
   "metadata": {},
   "outputs": [],
   "source": [
    "mean_f1 = np.mean(flat1)\n",
    "print(mean_f1)\n",
    "\n",
    "mean_f2 = np.mean(flat2)\n",
    "print(mean_f2)\n",
    "\n",
    "mean_b1 = np.mean(bias1)\n",
    "print(mean_b1)\n",
    "\n",
    "mean_b2 = np.mean(bias2)\n",
    "print(mean_b2)\n",
    "\n",
    "sigma_f1f2 = np.std(flat1.subtract(flat2))\n",
    "print(sigma_f1f2)\n",
    "\n",
    "sigma_b1b2 = np.std(bias1.subtract(bias2))\n",
    "print(sigma_f1f2)\n",
    "\n",
    "gain = ((mean_f1+mean_f2)-(mean_b1+mean_b2))/(sigma_f1f2**2+sigma_b1b2**2)\n",
    "print(gain)\n",
    "print(f'\\nGain is {gain:.3f} e-/ADU')"
   ]
  },
  {
   "cell_type": "code",
   "execution_count": null,
   "id": "bad170e4-e546-4575-a75a-2f093455f9bc",
   "metadata": {},
   "outputs": [],
   "source": []
  },
  {
   "cell_type": "markdown",
   "id": "1c08c4aa-586a-49ee-8e44-20eb54e0534e",
   "metadata": {},
   "source": [
    "### Read Noise Calculation"
   ]
  },
  {
   "cell_type": "markdown",
   "id": "bb037a63-033a-470c-a862-446090aa0b2c",
   "metadata": {},
   "source": [
    "~is this even correct~"
   ]
  },
  {
   "cell_type": "code",
   "execution_count": null,
   "id": "063a4281-eb88-4212-ae80-b064ad71c67b",
   "metadata": {},
   "outputs": [],
   "source": [
    "read_noise = gain*sigma_b1b2/np.sqrt(2)\n",
    "\n",
    "print(read_noise)\n",
    "print(f'\\nRead noise is {read_noise:.3f} e-')"
   ]
  },
  {
   "cell_type": "markdown",
   "id": "79c22c7d-436e-420a-ab4e-4792fdede23c",
   "metadata": {},
   "source": [
    "## _Linearity Test_"
   ]
  },
  {
   "cell_type": "code",
   "execution_count": null,
   "id": "a2be3ae5-f19d-424f-9e9b-fa0e0f9f6577",
   "metadata": {
    "scrolled": true,
    "tags": []
   },
   "outputs": [],
   "source": [
    "exp_times = []\n",
    "means = []\n",
    "\n",
    "for x in lintests:\n",
    "    exptime = x.header['exptime']\n",
    "    exp_times.append(exptime)\n",
    "    print('Exposure time {} sec'.format(exptime))\n",
    "\n",
    "    mean_counts = np.mean(x)\n",
    "    print('Mean counts: {:.2f}\\n'.format(mean_counts))\n",
    "    means.append(mean_counts)\n",
    "\n",
    "# sorting by exp time\n",
    "exp_times = np.array(exp_times)\n",
    "means = np.array(means)\n",
    "\n",
    "time_sort = np.argsort(exp_times)\n",
    "exp_times = exp_times[time_sort]\n",
    "means = means[time_sort]"
   ]
  },
  {
   "cell_type": "code",
   "execution_count": null,
   "id": "86664817-0635-4b7a-93be-cba90a47c3c2",
   "metadata": {},
   "outputs": [],
   "source": [
    "plt.figure(figsize=(10, 8))\n",
    "plt.rcParams['font.size'] = 16\n",
    "\n",
    "plt.plot(exp_times, means, '-ko')\n",
    "plt.plot(4.5, 59800, 'rx', mew=1.5, markersize=12, label='Max linearity point?')\n",
    "plt.plot(1.2, 16300, 'bx', mew=1.5, markersize=12, label='Min linearity point?')\n",
    "plt.title('Linearity Test')\n",
    "plt.xlabel('Exposure Time (sec)')\n",
    "plt.ylabel('Mean counts')\n",
    "plt.legend()\n",
    "plt.savefig('lin_plot')"
   ]
  },
  {
   "cell_type": "code",
   "execution_count": null,
   "id": "7a8f8a2b-bd55-48a2-847d-32f1cec919e3",
   "metadata": {},
   "outputs": [],
   "source": []
  },
  {
   "cell_type": "markdown",
   "id": "9f73f799-6219-4542-a334-dac797b5571e",
   "metadata": {},
   "source": [
    "## _Removing Instrumental Signature+Illumination Correction_"
   ]
  },
  {
   "cell_type": "markdown",
   "id": "2c8f5298-4e8d-48f7-9afd-6755c5961345",
   "metadata": {},
   "source": [
    "### Removing Bias"
   ]
  },
  {
   "cell_type": "code",
   "execution_count": null,
   "id": "9674a88c-04b8-42da-bf08-8db44eefa000",
   "metadata": {},
   "outputs": [],
   "source": [
    "biases = Combiner(bias)\n",
    "master_bias = biases.median_combine()\n",
    "master_bias.header = bias[0].header\n",
    "master_bias.header['Combined'] = 'Combined with biases from 07 and 08'\n",
    "\n",
    "plt.figure(figsize=(5,5))\n",
    "plt.imshow(master_bias, vmin=np.percentile(master_bias, 5),vmax=np.percentile(master_bias, 95), \n",
    "          cmap='gray', interpolation='nearest');"
   ]
  },
  {
   "cell_type": "code",
   "execution_count": null,
   "id": "8a3e4c56-7e30-4cb1-9282-fb3248b91b9f",
   "metadata": {},
   "outputs": [],
   "source": [
    "np.mean(master_bias)"
   ]
  },
  {
   "cell_type": "code",
   "execution_count": null,
   "id": "db6b5cb8-f9f7-4f70-86ff-17257bba7aa4",
   "metadata": {},
   "outputs": [],
   "source": [
    "# data bias subtraction\n",
    "pg1633_bias = []\n",
    "for file in pg1633:\n",
    "    bias = subtract_bias(file, master_bias, add_keyword=True)\n",
    "    pg1633_bias.append(bias)\n",
    "\n",
    "pg1648_bias = []\n",
    "for file in pg1648:\n",
    "    bias = subtract_bias(file, master_bias, add_keyword=True)\n",
    "    pg1648_bias.append(bias)\n",
    "    \n",
    "g9348_bias = []\n",
    "for file in g9348:\n",
    "    bias = subtract_bias(file, master_bias, add_keyword=True)\n",
    "    g9348_bias.append(bias)\n",
    "\n",
    "lilsal_bias = []\n",
    "for file in lilsal:\n",
    "    bias = subtract_bias(file, master_bias, add_keyword=True)\n",
    "    lilsal_bias.append(bias)\n",
    "\n",
    "ngc7318_bias = []\n",
    "for file in ngc7318:\n",
    "    bias = subtract_bias(file, master_bias, add_keyword=True)\n",
    "    ngc7318_bias.append(bias)"
   ]
  },
  {
   "cell_type": "code",
   "execution_count": null,
   "id": "3277c6e4-a914-4634-b61f-6fd00b524857",
   "metadata": {},
   "outputs": [],
   "source": [
    "# sky flats bias subtraction\n",
    "skyflats_bias = []\n",
    "for file in skyflats:\n",
    "    bias = subtract_bias(file, master_bias, add_keyword=True)\n",
    "    skyflats_bias.append(bias)"
   ]
  },
  {
   "cell_type": "code",
   "execution_count": null,
   "id": "0d20672c-18dd-41e4-9373-79e2fb523f8e",
   "metadata": {},
   "outputs": [],
   "source": [
    "# dome flats bias subtraction\n",
    "domeflats_bias = []\n",
    "for file in domeflats:\n",
    "    bias = subtract_bias(file, master_bias, add_keyword=True)\n",
    "    domeflats_bias.append(bias)"
   ]
  },
  {
   "cell_type": "markdown",
   "id": "93c602f4-254d-438f-8096-464faac0ff25",
   "metadata": {},
   "source": [
    "### Master Flat"
   ]
  },
  {
   "cell_type": "code",
   "execution_count": null,
   "id": "d2a5fff7-5257-4daf-8d61-3fbc20bf4268",
   "metadata": {},
   "outputs": [],
   "source": [
    "def filter_fn(images):\n",
    "    B = []\n",
    "    V = []\n",
    "    r = []\n",
    "    for file in images:\n",
    "        x = file.header['filter']\n",
    "        if x == 'B':\n",
    "            B.append(file)\n",
    "        elif x == 'V':\n",
    "            V.append(file)\n",
    "        elif x == 'r':\n",
    "            r.append(file)\n",
    "    return B, V, r\n",
    "\n",
    "def masterflat_fn(flat, flattype, filt):\n",
    "    flats = Combiner(flat)\n",
    "    master_flat = flats.median_combine()\n",
    "    master_flat.header = flat[0].header\n",
    "    master_flat.header['Combined'] = f'Combined {flattype} flats'\n",
    "    master_flat.header['filter'] = f'{filt}'\n",
    "    return master_flat\n",
    "    \n",
    "def flatcorrect_fn(images, flattype):\n",
    "    i = []\n",
    "    for file in images:\n",
    "        x = file.header['filter']\n",
    "        if x == 'B':\n",
    "            flatcorrected = flat_correct(file, flattype[0])\n",
    "            i.append(flatcorrected)\n",
    "        elif x == 'V':\n",
    "            flatcorrected = flat_correct(file, flattype[1])\n",
    "            i.append(flatcorrected)\n",
    "        elif x == 'r':\n",
    "            flatcorrected = flat_correct(file, flattype[2])\n",
    "            i.append(flatcorrected)\n",
    "        else:\n",
    "            continue\n",
    "    return i"
   ]
  },
  {
   "cell_type": "code",
   "execution_count": null,
   "id": "25ffc30d-4e73-4145-adf5-e52442253daa",
   "metadata": {},
   "outputs": [],
   "source": [
    "# dome master flats\n",
    "domeflats_B, domeflats_V, domeflats_r = filter_fn(domeflats_bias)\n",
    "domemasterflat_B = masterflat_fn(domeflats_B, 'dome', 'B')\n",
    "domemasterflat_V = masterflat_fn(domeflats_V, 'dome', 'V')\n",
    "domemasterflat_r = masterflat_fn(domeflats_r, 'dome', 'r')\n",
    "domemasterflats = [domemasterflat_B, domemasterflat_V, domemasterflat_r]"
   ]
  },
  {
   "cell_type": "code",
   "execution_count": null,
   "id": "1ae9a740-4800-40fb-aa8c-408ea4aabd77",
   "metadata": {},
   "outputs": [],
   "source": [
    "plt.figure(figsize=(10,10))\n",
    "plt.subplot(1,3,1)\n",
    "plt.imshow(domemasterflat_B, vmin=np.percentile(domemasterflat_B, 5), \n",
    "           vmax=np.percentile(domemasterflat_B, 95), cmap='gray', interpolation='nearest');\n",
    "plt.subplot(1,3,2)\n",
    "plt.imshow(domemasterflat_V, vmin=np.percentile(domemasterflat_V, 5), \n",
    "           vmax=np.percentile(domemasterflat_V, 95), cmap='gray', interpolation='nearest');\n",
    "plt.subplot(1,3,3)\n",
    "plt.imshow(domemasterflat_r, vmin=np.percentile(domemasterflat_r, 5), \n",
    "           vmax=np.percentile(domemasterflat_r, 95), cmap='gray', interpolation='nearest');"
   ]
  },
  {
   "cell_type": "code",
   "execution_count": null,
   "id": "395780f4-0f02-43ee-810b-fea3020f206a",
   "metadata": {},
   "outputs": [],
   "source": [
    "np.mean(domemasterflat_B), np.mean(domemasterflat_V), np.mean(domemasterflat_r),"
   ]
  },
  {
   "cell_type": "code",
   "execution_count": null,
   "id": "5c68e222-2066-4999-83af-f26093eaffac",
   "metadata": {},
   "outputs": [],
   "source": [
    "# flatcorrect_fn(images, masterflat):\n",
    "# pg1633_bias\n",
    "# pg1648_bias\n",
    "# g9348_bias\n",
    "# lilsal_bias\n",
    "# ngc7318_bias\n",
    "\n",
    "pg1633_dome = flatcorrect_fn(pg1633_bias, domemasterflats)\n",
    "pg1648_dome = flatcorrect_fn(pg1648_bias, domemasterflats)\n",
    "g9348_dome = flatcorrect_fn(g9348_bias, domemasterflats)\n",
    "lilsal_dome = flatcorrect_fn(lilsal_bias, domemasterflats)\n",
    "ngc7318_dome = flatcorrect_fn(ngc7318_bias, domemasterflats)"
   ]
  },
  {
   "cell_type": "code",
   "execution_count": null,
   "id": "349831c1-816e-49df-a043-949b95dcc49f",
   "metadata": {},
   "outputs": [],
   "source": []
  },
  {
   "cell_type": "code",
   "execution_count": null,
   "id": "9f9d8df1-fede-4164-97df-27d4176a9763",
   "metadata": {},
   "outputs": [],
   "source": [
    "# sky master flats\n",
    "skyflats_B, skyflats_V, skyflats_r = filter_fn(skyflats)"
   ]
  },
  {
   "cell_type": "code",
   "execution_count": null,
   "id": "ea032765-6928-48fc-8f51-251c7a80423e",
   "metadata": {},
   "outputs": [],
   "source": [
    "# need to combine skyflats from same days\n",
    "def date_fn(images):\n",
    "    _08 = []\n",
    "    _09 = []\n",
    "    _11 = []\n",
    "    for file in images:\n",
    "        date = file.header['date-obs']\n",
    "        if '-08T' in date:\n",
    "            _08.append(file)\n",
    "        elif '-09T' in date:\n",
    "            _09.append(file)\n",
    "        elif '-11T' in date:\n",
    "            _11.append(file)\n",
    "        else:\n",
    "            continue\n",
    "    return _08, _09, _11"
   ]
  },
  {
   "cell_type": "code",
   "execution_count": null,
   "id": "b92775a3-1ca3-4d92-90a5-e10263b59ee7",
   "metadata": {},
   "outputs": [],
   "source": [
    "# skyflats_B, skyflats_V, skyflats_r = filter_fn(skyflats)\n",
    "skyflats_B_07, skyflats_B_08, _ = date_fn(skyflats_B)\n",
    "skyflats_V_07, skyflats_V_08, _ = date_fn(skyflats_V)\n",
    "skyflats_r_07, skyflats_r_08, _ = date_fn(skyflats_r)\n",
    "\n",
    "skymasterflat_B_07 = masterflat_fn(skyflats_B_07, 'sky', 'B')\n",
    "skymasterflat_B_08 = masterflat_fn(skyflats_B_08, 'sky', 'B')\n",
    "\n",
    "skymasterflat_V_07 = masterflat_fn(skyflats_V_07, 'sky', 'V')\n",
    "skymasterflat_V_08 = masterflat_fn(skyflats_V_08, 'sky', 'V')\n",
    "\n",
    "skymasterflat_r_07 = masterflat_fn(skyflats_r_07, 'sky', 'r')\n",
    "skymasterflat_r_08 = masterflat_fn(skyflats_r_08, 'sky', 'r')\n",
    "\n",
    "skymasterflats_07 = [skymasterflat_B_07, skymasterflat_V_07, skymasterflat_r_07]\n",
    "skymasterflats_08 = [skymasterflat_B_08, skymasterflat_V_08, skymasterflat_r_08]"
   ]
  },
  {
   "cell_type": "code",
   "execution_count": null,
   "id": "361ff0d4-492a-4d25-8ca0-d2731d480bf5",
   "metadata": {},
   "outputs": [],
   "source": [
    "for x in skyflats_B_07:\n",
    "    print(x.header['date-obs'])"
   ]
  },
  {
   "cell_type": "code",
   "execution_count": null,
   "id": "f500bf77-16c8-4592-9e30-b2749dfc507d",
   "metadata": {},
   "outputs": [],
   "source": [
    "# 07\n",
    "plt.figure(figsize=(10,10))\n",
    "plt.subplot(1,3,1)\n",
    "plt.imshow(skymasterflat_B_07, vmin=np.percentile(skymasterflat_B_07, 5), \n",
    "           vmax=np.percentile(skymasterflat_B_07, 95), cmap='inferno', interpolation='nearest');\n",
    "plt.subplot(1,3,2)\n",
    "plt.imshow(skymasterflat_V_07, vmin=np.percentile(skymasterflat_V_07, 5), \n",
    "           vmax=np.percentile(skymasterflat_V_07, 95), cmap='inferno', interpolation='nearest');\n",
    "plt.subplot(1,3,3)\n",
    "plt.imshow(skymasterflat_r_07, vmin=np.percentile(skymasterflat_r_07, 5), \n",
    "           vmax=np.percentile(skymasterflat_r_07, 95), cmap='inferno', interpolation='nearest');"
   ]
  },
  {
   "cell_type": "code",
   "execution_count": null,
   "id": "a9bc8c16-92e8-4351-a6bd-27e22583bbb0",
   "metadata": {},
   "outputs": [],
   "source": [
    "# 08\n",
    "plt.figure(figsize=(10,10))\n",
    "plt.subplot(1,3,1)\n",
    "plt.imshow(skymasterflat_B_08, vmin=np.percentile(skymasterflat_B_08, 5), \n",
    "           vmax=np.percentile(skymasterflat_B_08, 95), cmap='gray', interpolation='nearest');\n",
    "plt.subplot(1,3,2)\n",
    "plt.imshow(skymasterflat_V_08, vmin=np.percentile(skymasterflat_V_08, 5), \n",
    "           vmax=np.percentile(skymasterflat_V_08, 95), cmap='gray', interpolation='nearest');\n",
    "plt.subplot(1,3,3)\n",
    "plt.imshow(skymasterflat_r_08, vmin=np.percentile(skymasterflat_r_08, 5), \n",
    "           vmax=np.percentile(skymasterflat_r_08, 95), cmap='gray', interpolation='nearest');"
   ]
  },
  {
   "cell_type": "code",
   "execution_count": null,
   "id": "d9a2f9fc-b4dd-4db6-98c4-b1e68fde894d",
   "metadata": {},
   "outputs": [],
   "source": [
    "# flatcorrect_fn(images, masterflat):\n",
    "# pg1633_bias\n",
    "# pg1648_bias\n",
    "# g9348_bias\n",
    "# lilsal_bias\n",
    "# ngc7318_bias\n",
    "\n",
    "# def date_fn(images):\n",
    "#     _08 = []\n",
    "#     _09 = []\n",
    "#     for file in images:\n",
    "#         date = file.header['date-obs']\n",
    "#         if '-08T' in date:\n",
    "#             _08.append(file)\n",
    "#         elif '-09T' in date:\n",
    "#             _09.append(file)\n",
    "#     return _08, _09\n",
    "\n",
    "# def toomanyfns(star):\n",
    "#     i = []\n",
    "#     for file in star:\n",
    "#         date = file.header['date-obs']\n",
    "#         if '-08T' in date:\n",
    "#             f_07 = flatcorrect_fn(file, skymasterflats_07)\n",
    "#             i.append(f_07)\n",
    "#         elif '-09T' in date:\n",
    "#             f_08 = flatcorrect_fn(file, skymasterflats_08)\n",
    "#             i.append(f_08)\n",
    "#     return i\n",
    "\n",
    "# def flatcorrect_fn(images, flattype):\n",
    "#     i = []\n",
    "#     for file in images:\n",
    "#         x = file.header['filter']\n",
    "#         if x == 'B':\n",
    "#             flatcorrected = flat_correct(file, flattype[0])\n",
    "#             i.append(flatcorrected)\n",
    "#         elif x == 'V':\n",
    "#             flatcorrected = flat_correct(file, flattype[1])\n",
    "#             i.append(flatcorrected)\n",
    "#         elif x == 'r':\n",
    "#             flatcorrected = flat_correct(file, flattype[2])\n",
    "#             i.append(flatcorrected)\n",
    "#         else:\n",
    "#             continue\n",
    "#     return i\n",
    "\n",
    "# pg1633_sky = toomanyfns(pg1633_bias)\n",
    "\n",
    "pg1633_07, pg1633_08, _ = date_fn(pg1633_bias)\n",
    "pg1633_sky_07 = flatcorrect_fn(pg1633_07, skymasterflats_07)\n",
    "pg1633_sky_08 = flatcorrect_fn(pg1633_08, skymasterflats_08)\n",
    "pg1633_sky = pg1633_sky_07.append(pg1633_sky_08)\n",
    "\n",
    "pg1648_07, pg1648_08, _ = date_fn(pg1648_bias)\n",
    "pg1648_sky_07 = flatcorrect_fn(pg1648_07, skymasterflats_07)\n",
    "pg1648_sky_08 = flatcorrect_fn(pg1648_08, skymasterflats_08)\n",
    "pg1648_sky = pg1648_sky_07.append(pg1648_sky_08)\n",
    "\n",
    "g9348_07, g9348_08, _ = date_fn(g9348_bias)\n",
    "g9348_sky_07 = flatcorrect_fn(g9348_07, skymasterflats_07)\n",
    "g9348_sky_08 = flatcorrect_fn(g9348_08, skymasterflats_08)\n",
    "g9348_sky = g9348_sky_08\n",
    "\n",
    "_, lilsal_08, _ = date_fn(lilsal_bias)\n",
    "lilsal_sky = flatcorrect_fn(lilsal_08, skymasterflats_08)\n",
    "\n",
    "# ngc 7318 doesn't have flats\n",
    "# ngc7318_dome = flatcorrect_fn(ngc7318_bias, domemasterflats)"
   ]
  },
  {
   "cell_type": "markdown",
   "id": "8ec0a7b6-55ce-4033-b8f6-b51cb8002925",
   "metadata": {},
   "source": [
    "### Illumination Correction"
   ]
  },
  {
   "cell_type": "code",
   "execution_count": null,
   "id": "5b459c2a-bc35-4e86-86cd-c34ac98f9f92",
   "metadata": {},
   "outputs": [],
   "source": [
    "illum_B_07 = skymasterflats_07[0].data/domemasterflats[0].data\n",
    "illum_B_08 = skymasterflats_08[0].data/domemasterflats[0].data\n",
    "\n",
    "illum_V_07 = skymasterflats_07[1].data/domemasterflats[1].data\n",
    "illum_V_08 = skymasterflats_08[1].data/domemasterflats[1].data\n",
    "\n",
    "illum_r_07 = skymasterflats_07[2].data/domemasterflats[2].data\n",
    "illum_r_08 = skymasterflats_08[2].data/domemasterflats[2].data\n",
    "\n",
    "\n",
    "illum_07 = [illum_B_07, illum_V_07, illum_r_07]\n",
    "illum_08 = [illum_B_08, illum_V_08, illum_r_08]\n",
    "\n",
    "# def illumcorrect_fn(images, illumtype):\n",
    "#     i = []\n",
    "#     for file in images:\n",
    "#         x = file.header['filter']\n",
    "#         if x == 'B':\n",
    "#             illumcorrected = file, illum\n",
    "#             i.append(illumcorrected)\n",
    "#         elif x == 'V':\n",
    "#             flatcorrected = flat_correct(file, flattype[1])\n",
    "#             i.append(flatcorrected)\n",
    "#         elif x == 'r':\n",
    "#             flatcorrected = flat_correct(file, flattype[2])\n",
    "#             i.append(flatcorrected)\n",
    "#         else:\n",
    "#             continue\n",
    "#     return i"
   ]
  },
  {
   "cell_type": "code",
   "execution_count": null,
   "id": "a020d8b2-ca87-4916-8a5a-f900efa671a0",
   "metadata": {},
   "outputs": [],
   "source": [
    "def mean_fn(star):\n",
    "    i = []\n",
    "    for image in star:\n",
    "        meaned = image.data/np.mean(image.data)\n",
    "        i.append(meaned)\n",
    "    return i\n",
    "\n",
    "# for x in pg1633_loc:\n",
    "#     image = CCDData.read(x, unit='adu')\n",
    "#     pg1633.append(image)\n",
    "\n",
    "# def masterflat_fn(flat, flattype, filt):\n",
    "#     flats = Combiner(flat)\n",
    "#     master_flat = flats.median_combine()\n",
    "#     master_flat.header = flat[0].header\n",
    "#     master_flat.header['Combined'] = f'Combined {flattype} flats'\n",
    "#     master_flat.header['filter'] = f'{filt}'\n",
    "#     return master_flat\n"
   ]
  },
  {
   "cell_type": "code",
   "execution_count": null,
   "id": "c52645a9-9498-47b3-81da-5fc7f73bb36f",
   "metadata": {},
   "outputs": [],
   "source": [
    "# pg1633_dome_07, pg1633_dome_08, _ = date_fn(mean_fn(pg1633_dome))\n",
    "# pg1648_dome_07, pg1648_dome_08, _ = date_fn(mean_fn(pg1648_dome))\n",
    "# g9348_dome_07, g9348_dome_08, _ = date_fn(mean_fn(g9348_dome))\n",
    "# lilsal_07, lilsal_08, _ = date_fn(mean_fn(lilsal_dome))\n",
    "\n",
    "illum_mean_07 = mean_fn(illum_07)\n",
    "illum_mean_08 = mean_fn(illum_08)"
   ]
  },
  {
   "cell_type": "code",
   "execution_count": null,
   "id": "45b7d0d1-60db-4eeb-a26c-45b3aa0bfa99",
   "metadata": {},
   "outputs": [],
   "source": [
    "# gaussian fn?\n",
    "def illumnorm_fn(illum):\n",
    "    i = []\n",
    "    for x in illum:\n",
    "        y = medfilt(x)\n",
    "        i.append(y)\n",
    "    return i\n",
    "\n",
    "illum_norm_07 = illumnorm_fn(illum_mean_07)\n",
    "illum_norm_08 = illumnorm_fn(illum_mean_08)\n",
    "\n",
    "# plt.subplot(1, 2, 1)\n",
    "# plt.imshow(illum_norm_07[0], vmin=np.percentile(illum_norm_07[0], 5), \n",
    "#            vmax=np.percentile(illum_norm_07[0], 95), cmap='gray', interpolation='nearest');\n",
    "# plt.subplot(1, 2, 2)\n",
    "# plt.imshow(illum_07[0], vmin=np.percentile(illum_07[0], 5), \n",
    "#            vmax=np.percentile(illum_07[0], 95), cmap='gray', interpolation='nearest');"
   ]
  },
  {
   "cell_type": "code",
   "execution_count": null,
   "id": "971439d1-c510-463b-a4d5-7e79f753dfd0",
   "metadata": {},
   "outputs": [],
   "source": [
    "def illumcr_fn(star, illum):\n",
    "    i = []\n",
    "    for image in star:\n",
    "        x = file.header['filter']\n",
    "        if x == 'B':\n",
    "            cr = image.data/illum[0]\n",
    "            y = CCDData(cr, unit='adu')\n",
    "            y.header = image.header\n",
    "            i.append(y)\n",
    "        if x == 'V':\n",
    "            cr = image.data/illum[1]\n",
    "            y = CCDData(cr, unit='adu')\n",
    "            y.header = image.header\n",
    "            i.append(y)\n",
    "        if x == 'r':\n",
    "            cr = image.data/illum[2]\n",
    "            y = CCDData(cr, unit='adu')\n",
    "            y.header = image.header\n",
    "            i.append(y)\n",
    "        else:\n",
    "            continue\n",
    "    return i\n",
    "\n",
    "# def flatcorrect_fn(images, flattype):\n",
    "#     i = []\n",
    "#     for file in images:\n",
    "#         x = file.header['filter']\n",
    "#         if x == 'B':\n",
    "#             flatcorrected = flat_correct(file, flattype[0])\n",
    "#             i.append(flatcorrected)\n",
    "#         elif x == 'V':\n",
    "#             flatcorrected = flat_correct(file, flattype[1])\n",
    "#             i.append(flatcorrected)\n",
    "#         elif x == 'r':\n",
    "#             flatcorrected = flat_correct(file, flattype[2])\n",
    "#             i.append(flatcorrected)\n",
    "#         else:\n",
    "#             continue\n",
    "#     return i\n",
    "\n",
    "pg1633_07, pg1633_08, _ = date_fn(pg1633_bias)\n",
    "pg1633_illum_07 = illumcr_fn(pg1633_07, illum_norm_07)\n",
    "pg1633_illum_08 = illumcr_fn(pg1633_08, illum_norm_08)\n",
    "# pg1633_sky = pg1633_sky_07.append(pg1633_sky_08)\n",
    "\n",
    "pg1648_07, pg1648_08, _ = date_fn(pg1648_bias)\n",
    "pg1648_illum_07 = illumcr_fn(pg1648_07, illum_norm_07)\n",
    "pg1648_illum_08 = illumcr_fn(pg1648_08, illum_norm_08)\n",
    "# pg1648_sky = pg1648_sky_07.append(pg1648_sky_08)\n",
    "\n",
    "g9348_07, g9348_08, _ = date_fn(g9348_bias)\n",
    "g9348_illum_07 = illumcr_fn(g9348_07, illum_norm_07)\n",
    "g9348_illum_08 = illumcr_fn(g9348_08, illum_norm_08)\n",
    "# g9348_sky = g9348_sky_08\n",
    "\n",
    "_, lilsal_08, _ = date_fn(lilsal_bias)\n",
    "lilsal_illum_08 = illumcr_fn(lilsal_08, illum_norm_08)"
   ]
  },
  {
   "cell_type": "code",
   "execution_count": null,
   "id": "b96dc84f-1804-4286-9360-b6e7f3d96996",
   "metadata": {},
   "outputs": [],
   "source": [
    "plt.subplot(1, 2, 1)\n",
    "plt.imshow(pg1633_07[0], vmin=np.percentile(pg1633_07[0], 5), \n",
    "           vmax=np.percentile(pg1633_07[0], 95), cmap='gray', interpolation='nearest');\n",
    "plt.subplot(1, 2, 2)\n",
    "plt.imshow(pg1633_illum_07[0], vmin=np.percentile(pg1633_illum_07[0], 5), \n",
    "           vmax=np.percentile(pg1633_illum_07[0], 95), cmap='gray', interpolation='nearest');"
   ]
  },
  {
   "cell_type": "code",
   "execution_count": null,
   "id": "489f4469-0a8e-438b-920e-868e39189acc",
   "metadata": {},
   "outputs": [],
   "source": [
    "print(np.median(pg1633_07[0]), np.median(pg1633_illum_07[0]))"
   ]
  },
  {
   "cell_type": "code",
   "execution_count": null,
   "id": "88a31e75-1906-47ea-8af5-feb5753e452b",
   "metadata": {},
   "outputs": [],
   "source": []
  },
  {
   "cell_type": "markdown",
   "id": "d277ca44-9d8b-4562-83f9-cd7110263e23",
   "metadata": {},
   "source": [
    "## _Maximizing SNR_"
   ]
  },
  {
   "cell_type": "code",
   "execution_count": null,
   "id": "dbde3d6c-5175-4ea2-b7b8-1aed4907d5e2",
   "metadata": {},
   "outputs": [],
   "source": [
    "# using G9348_V_60\n",
    "sn_test = g9348_sky[4]\n",
    "mean, median, std = sigma_clipped_stats(sn_test, sigma=3.0)\n",
    "znorm = ImageNormalize(sn_test, interval=ZScaleInterval())\n",
    "print(mean, median, std)\n",
    "plt.imshow(sn_test, vmin=np.percentile(sn_test, 5), \n",
    "           vmax=np.percentile(sn_test, 95), cmap='gray', interpolation='nearest');"
   ]
  },
  {
   "cell_type": "code",
   "execution_count": null,
   "id": "6e954820-bbff-486f-97a1-31fcfd9a2dbe",
   "metadata": {},
   "outputs": [],
   "source": [
    "sn_test.header"
   ]
  },
  {
   "cell_type": "code",
   "execution_count": null,
   "id": "04992c44-4318-485c-8835-828e03b5c984",
   "metadata": {},
   "outputs": [],
   "source": [
    "def makemag(flux,exptime,C):\n",
    "    m = C - 2.5*np.log(np.abs(flux.value/exptime))\n",
    "    return m\n",
    "\n",
    "annulus_r_in = 15\n",
    "annulus_r_out = 30\n",
    "\n",
    "def sn_fn(aperture_radius):\n",
    "    mean, median, std = sigma_clipped_stats(sn_test, sigma=3.0)\n",
    "    znorm = ImageNormalize(sn_test, interval=ZScaleInterval())\n",
    "    \n",
    "    daofind = DAOStarFinder(fwhm=2, threshold=10*std, exclude_border=True)\n",
    "    sources = daofind(sn_test.data)\n",
    "    \n",
    "    # aperture creation\n",
    "    positions = []\n",
    "    for x, y in zip(sources['xcentroid'], sources['ycentroid']):\n",
    "        points = [x, y]\n",
    "        positions.append(points)\n",
    "    aperture = CircularAperture(positions, r=aperture_radius)\n",
    "    positions = positions[7]\n",
    "    aperture = aperture[7]\n",
    "    \n",
    "    # main star flux\n",
    "    phot = aperture_photometry(sn_test, aperture)\n",
    "    for col in phot.colnames:phot[col].info.format = '%.8g'\n",
    "    source = phot['aperture_sum']\n",
    "    \n",
    "    # annulus creation\n",
    "    annulus = CircularAnnulus(positions, r_in=annulus_r_in, r_out=annulus_r_out)\n",
    "    total_sky = aperture_photometry(sn_test,annulus)['aperture_sum']\n",
    "    avg_sky = total_sky / annulus.area\n",
    "    sky = avg_sky * aperture.area\n",
    "    fluxes = source - sky\n",
    "    \n",
    "    # magnitude calculation\n",
    "    mags = makemag(fluxes,exptime,28)\n",
    "    \n",
    "    # signal to noise calculation\n",
    "    sn = gain*fluxes.value/np.sqrt(gain*fluxes.value + gain*aperture.area*sky.value \n",
    "                            + aperture.area*read_noise**2)\n",
    "    # sn = np.sqrt(gain*fluxes)\n",
    "    return sn, mags"
   ]
  },
  {
   "cell_type": "code",
   "execution_count": null,
   "id": "919f3e05-c072-4ecd-bcd8-84afbe343047",
   "metadata": {},
   "outputs": [],
   "source": [
    "radii = np.arange(1, 10, 1)\n",
    "sns = []\n",
    "mgs = []\n",
    "for x in radii:\n",
    "    sns.append(sn_fn(x)[0])\n",
    "    mgs.append(sn_fn(x)[1])\n",
    "    \n",
    "\n",
    "fig, (ax0, ax1) = plt.subplots(nrows=2, sharex='col', figsize=(11, 9))\n",
    "\n",
    "ax0.set_ylabel('Instrumental Magnitude')\n",
    "ax0.plot(radii, mgs, '-o', color='b')\n",
    "ax0.invert_yaxis()\n",
    "\n",
    "ax1.set_xlabel('Aperture Radius (pixels)')\n",
    "ax1.set_ylabel('SNR')\n",
    "ax1.plot(radii, sns, '-o', color='k')\n",
    "plt.tight_layout()"
   ]
  },
  {
   "cell_type": "code",
   "execution_count": null,
   "id": "23d841e4-ffc5-4c68-a3a0-fdd4d3de2fe9",
   "metadata": {},
   "outputs": [],
   "source": [
    "daofind = DAOStarFinder(fwhm=2, threshold=10*std, exclude_border=True)\n",
    "sources = daofind(sn_test.data)\n",
    "\n",
    "positions = []\n",
    "for x, y in zip(sources['xcentroid'], sources['ycentroid']):\n",
    "    points = [x, y]\n",
    "    positions.append(points)\n",
    "positions = positions[7]\n",
    "    \n",
    "aperture_best = CircularAperture(positions, r=2)\n",
    "\n",
    "aperture_smallest = CircularAperture(positions, r=1)\n",
    "\n",
    "aperture_largest = CircularAperture(positions, r=9)\n",
    "\n",
    "annulus = CircularAnnulus(positions, r_in=annulus_r_in, r_out=annulus_r_out)\n",
    "\n",
    "# Plotting apertures is easy with photutils aperture objects: just add .plot\n",
    "plt.figure(figsize = (11,8.5))\n",
    "plt.imshow(sn_test,norm=znorm,cmap='pink')\n",
    "aperture_best.plot(color='red', linewidth=2, label='\"best\" (r=2)')\n",
    "aperture_smallest.plot(color='black', linewidth=2, label='smallest (r=1)')\n",
    "aperture_largest.plot(color='lime', linewidth=2, label='largest (r=9)')\n",
    "annulus.plot(color='deeppink', linewidth=2, label='annulus')\n",
    "plt.legend();"
   ]
  },
  {
   "cell_type": "code",
   "execution_count": null,
   "id": "75eddd86-2314-416b-aa40-bc2c5b969461",
   "metadata": {},
   "outputs": [],
   "source": [
    "# Plot a 1-D model PSF\n",
    "flux = 1\n",
    "gamma = 1.09 # *Half* width at half max\n",
    "alpha = 1 # power index (shape)\n",
    "\n",
    "PSF = Moffat1D(flux, 0, gamma, alpha)\n",
    "plt.figure(figsize=(16,6)) # make the plot w i d e\n",
    "ymin, ymax = plt.ylim(-0.4,1.05) # make some space for labels\n",
    "X = np.linspace(-25,25,250)\n",
    "plt.plot(X, PSF(X))\n",
    "\n",
    "# Label the fwhm\n",
    "fwhm = PSF.fwhm\n",
    "\n",
    "print(\"FWHM =\", fwhm)\n",
    "plt.hlines(0.5, 0-fwhm/2., 0+fwhm/2, color=\"k\")\n",
    "txt = plt.annotate(\"fwhm\", (0, 0.4), size=15, ha=\"center\")\n",
    "\n",
    "# Show where a circular aperture would go\n",
    "aperture_radius = 2\n",
    "plt.hlines(-0.1, -aperture_radius, aperture_radius)\n",
    "txt = plt.annotate(\"aperture\", (0, -0.2), size=15, ha=\"center\")\n",
    "\n",
    "# Show sky annulus where background light is measured\n",
    "plt.hlines(-0.1, -annulus_r_in, -annulus_r_out)\n",
    "txt = plt.annotate(\"sky\", (-annulus_r_out, -0.2), size=15)\n",
    "plt.hlines(-0.1, annulus_r_in, annulus_r_out)\n",
    "txt = plt.annotate(\"sky\", (annulus_r_in, -0.2), size=15)"
   ]
  },
  {
   "cell_type": "code",
   "execution_count": null,
   "id": "25726e95-2bf7-484e-bb3d-61ff854fca70",
   "metadata": {},
   "outputs": [],
   "source": []
  },
  {
   "cell_type": "code",
   "execution_count": null,
   "id": "c556d11c-03ff-4241-95f5-a41f121cc80f",
   "metadata": {},
   "outputs": [],
   "source": []
  },
  {
   "cell_type": "markdown",
   "id": "920d3725-5f32-4515-afce-0c8c7c05fdba",
   "metadata": {},
   "source": [
    "## _Extinction_"
   ]
  },
  {
   "cell_type": "code",
   "execution_count": null,
   "id": "e2933cb7-8f44-4cc6-921e-e908bc00adc2",
   "metadata": {},
   "outputs": [],
   "source": [
    "lilsal_B_tot = []\n",
    "lilsal_V_tot = []\n",
    "for x in lilsal_sky:\n",
    "    if x.header['filter'] == 'B':\n",
    "        lilsal_B_tot.append(x)\n",
    "    elif x.header['filter'] == 'V':\n",
    "        lilsal_V_tot.append(x)\n",
    "        \n",
    "# for x in lilsal_V_tot:\n",
    "#     print(x.header['filter'], x.header['airmass'])"
   ]
  },
  {
   "cell_type": "code",
   "execution_count": null,
   "id": "f275dc6b-d531-4da9-89b9-52ea146f36e1",
   "metadata": {},
   "outputs": [],
   "source": [
    "# choosing star to find coefficients\n",
    "image = lilsal_B_tot[1]\n",
    "mean, median, std = sigma_clipped_stats(image, sigma=3.0)\n",
    "znorm = ImageNormalize(image, interval=ZScaleInterval())\n",
    "\n",
    "daofind = DAOStarFinder(fwhm=2, threshold=10*std, exclude_border=True)\n",
    "sources = daofind(image.data)\n",
    "\n",
    "# aperture creation\n",
    "offset = 50\n",
    "positions = []\n",
    "for x, y in zip(sources['xcentroid'], sources['ycentroid']):\n",
    "    if (200 < x < 240 +offset) and (270 < y < 300 +offset):\n",
    "        points = [x, y]\n",
    "        positions.append(points)\n",
    "aperture = CircularAperture(positions, r=2)\n",
    "# positions = positions[6]\n",
    "# aperture = aperture[6]\n",
    "\n",
    "plt.figure(figsize = (11,8.5))\n",
    "plt.imshow(image,norm=znorm,cmap='pink')\n",
    "aperture.plot(color='lime', linewidth=2);"
   ]
  },
  {
   "cell_type": "code",
   "execution_count": null,
   "id": "40f73c80-c177-4e04-a6de-acd82830711c",
   "metadata": {},
   "outputs": [],
   "source": [
    "phot = aperture_photometry(image, aperture)\n",
    "for col in phot.colnames:phot[col].info.format = '%.8g'\n",
    "source = phot['aperture_sum']\n",
    "print(phot)"
   ]
  },
  {
   "cell_type": "code",
   "execution_count": null,
   "id": "8d3179f5-a659-4bec-8d53-b77290f9c733",
   "metadata": {},
   "outputs": [],
   "source": [
    "def ext_fn(image):\n",
    "    mean, median, std = sigma_clipped_stats(image, sigma=3.0)\n",
    "    znorm = ImageNormalize(image, interval=ZScaleInterval())\n",
    "    \n",
    "    daofind = DAOStarFinder(fwhm=2, threshold=10*std, exclude_border=True)\n",
    "    sources = daofind(image.data)\n",
    "    \n",
    "    # aperture creation\n",
    "    offset = 50\n",
    "    positions = []\n",
    "    for x, y in zip(sources['xcentroid'], sources['ycentroid']):\n",
    "        if (200 < x < 240 +offset) and (270 < y < 300 +offset):\n",
    "            points = [x, y]\n",
    "            positions.append(points)\n",
    "    aperture = CircularAperture(positions, r=2)\n",
    "    \n",
    "    # main star flux\n",
    "    phot = aperture_photometry(image, aperture)\n",
    "    for col in phot.colnames:phot[col].info.format = '%.8g'\n",
    "    source = phot['aperture_sum']\n",
    "    \n",
    "    # annulus creation\n",
    "    annulus = CircularAnnulus(positions, r_in=annulus_r_in, r_out=annulus_r_out)\n",
    "    total_sky = aperture_photometry(image,annulus)['aperture_sum']\n",
    "    avg_sky = total_sky / annulus.area\n",
    "    sky = avg_sky * aperture.area\n",
    "    fluxes = source - sky\n",
    "    \n",
    "    # magnitude calculation\n",
    "    mags = makemag(fluxes,exptime,0)\n",
    "    return mags"
   ]
  },
  {
   "cell_type": "code",
   "execution_count": null,
   "id": "33376290-e863-4e0a-8be9-ef0ebc7bd949",
   "metadata": {},
   "outputs": [],
   "source": [
    "lilsal_B_mags = []\n",
    "lilsal_B_z = []\n",
    "lilsal_V_mags = []\n",
    "lilsal_V_z = []\n",
    "for x in lilsal_B_tot:\n",
    "    lilsal_B_mags.append(ext_fn(x))\n",
    "    lilsal_B_z.append(x.header['airmass'])\n",
    "\n",
    "for x in lilsal_V_tot:\n",
    "    lilsal_V_mags.append(ext_fn(x))\n",
    "    lilsal_V_z.append(x.header['airmass'])"
   ]
  },
  {
   "cell_type": "code",
   "execution_count": null,
   "id": "49a79973-d6e8-42a8-9b62-802a9bef9991",
   "metadata": {},
   "outputs": [],
   "source": [
    "B_coeffs = np.polyfit(lilsal_B_z, lilsal_B_mags, 1)\n",
    "def Bfit_fn(airmass):\n",
    "    Bfit_y = []\n",
    "    for x in airmass:\n",
    "        Bfit_y.append(B_coeffs[0]*x + B_coeffs[1])\n",
    "    return Bfit_y\n",
    "\n",
    "V_coeffs = np.polyfit(lilsal_V_z, lilsal_V_mags, 1)\n",
    "def Vfit_fn(airmass):\n",
    "    Vfit_y = []\n",
    "    for x in airmass:\n",
    "        Vfit_y.append(V_coeffs[0]*x + V_coeffs[1])\n",
    "    return Vfit_y"
   ]
  },
  {
   "cell_type": "code",
   "execution_count": null,
   "id": "805a039c-3c70-4b94-a707-79c1ce1df212",
   "metadata": {},
   "outputs": [],
   "source": [
    "fig, ax = plt.subplots(figsize=(11,8.5))\n",
    "\n",
    "ax.set_xlabel('Airmass')\n",
    "ax.set_ylabel('Instrumental magnitude')\n",
    "\n",
    "ax.plot(lilsal_B_z, lilsal_B_mags, 'ro', label=f'B, $k_B={B_coeffs[0].item():.2f}$')\n",
    "ax.plot(lilsal_B_z, Bfit_fn(lilsal_B_z), 'r-')\n",
    "\n",
    "ax.plot(lilsal_V_z, lilsal_V_mags, 'bo', label=f'V, $k_V={V_coeffs[0].item():.2f}$')\n",
    "ax.plot(lilsal_V_z, Vfit_fn(lilsal_V_z), 'b-')\n",
    "\n",
    "ax.invert_yaxis()\n",
    "ax.legend(loc='best')\n",
    "fig.tight_layout();"
   ]
  },
  {
   "cell_type": "code",
   "execution_count": null,
   "id": "d9d9ce95-6343-49a5-9b20-b38377373415",
   "metadata": {},
   "outputs": [],
   "source": []
  },
  {
   "cell_type": "code",
   "execution_count": null,
   "id": "91b45ace-047e-4154-afd4-a0601b44352e",
   "metadata": {},
   "outputs": [],
   "source": []
  },
  {
   "cell_type": "code",
   "execution_count": null,
   "id": "eefb594a-ca07-4f8e-868d-21061292c1f1",
   "metadata": {},
   "outputs": [],
   "source": []
  },
  {
   "cell_type": "markdown",
   "id": "bd6c1348-5f7f-45f7-8810-a06d05f3584e",
   "metadata": {},
   "source": [
    "## _Transformation_"
   ]
  },
  {
   "cell_type": "code",
   "execution_count": null,
   "id": "2e79f6e3-9b8c-4f40-976d-6cc0642de460",
   "metadata": {},
   "outputs": [],
   "source": []
  },
  {
   "cell_type": "markdown",
   "id": "604a4212-9e19-4469-a765-7c7756a46b05",
   "metadata": {
    "tags": []
   },
   "source": [
    "own train of thought here if you can see it then I forgot to delete it\n",
    "\n",
    "-need min to max of lintest; min CANNOT HAVE THE SHUTTER IN IT  \n",
    "-illum correction is weird  \n",
    "-can find actual magnitudes for all targets BUUUUT don't want to, come back to it later"
   ]
  },
  {
   "cell_type": "code",
   "execution_count": null,
   "id": "c3a89c2c-04a2-410f-af20-1acbc2fee25b",
   "metadata": {},
   "outputs": [],
   "source": []
  },
  {
   "cell_type": "code",
   "execution_count": null,
   "id": "8aad2063-cf82-4690-99c4-5c8211030bb0",
   "metadata": {},
   "outputs": [],
   "source": []
  },
  {
   "cell_type": "code",
   "execution_count": null,
   "id": "3a61cee6-d876-4a5c-98cd-54d47bf59a02",
   "metadata": {},
   "outputs": [],
   "source": []
  }
 ],
 "metadata": {
  "kernelspec": {
   "display_name": "Python 3 (ipykernel)",
   "language": "python",
   "name": "python3"
  },
  "language_info": {
   "codemirror_mode": {
    "name": "ipython",
    "version": 3
   },
   "file_extension": ".py",
   "mimetype": "text/x-python",
   "name": "python",
   "nbconvert_exporter": "python",
   "pygments_lexer": "ipython3",
   "version": "3.9.7"
  }
 },
 "nbformat": 4,
 "nbformat_minor": 5
}
